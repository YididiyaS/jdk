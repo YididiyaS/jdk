{
 "cells": [
  {
   "cell_type": "code",
   "execution_count": 2,
   "metadata": {},
   "outputs": [],
   "source": [
    "import dvc.api\n",
    "import pandas as pd"
   ]
  },
  {
   "cell_type": "code",
   "execution_count": 3,
   "metadata": {},
   "outputs": [],
   "source": [
    "# Get URL from DVC\n",
    "path = 'data/sample_submission'\n",
    "repo = '/home/jedi/Documents/Tenacademy/B5/Week3/dvcc'\n",
    "version = 'v5'"
   ]
  },
  {
   "cell_type": "code",
   "execution_count": 4,
   "metadata": {},
   "outputs": [
    {
     "ename": "PathMissingError",
     "evalue": "The path 'data/sample_submission' does not exist in the target repository '/home/jedi/Documents/Tenacademy/B5/Week3/dvcc' neither as a DVC output nor as a Git-tracked file.",
     "output_type": "error",
     "traceback": [
      "\u001b[0;31m---------------------------------------------------------------------------\u001b[0m",
      "\u001b[0;31mFileNotFoundError\u001b[0m                         Traceback (most recent call last)",
      "File \u001b[0;32m~/anaconda3/envs/dvtry/lib/python3.10/site-packages/funcy/flow.py:112\u001b[0m, in \u001b[0;36mreraise\u001b[0;34m(errors, into)\u001b[0m\n\u001b[1;32m    111\u001b[0m \u001b[39mtry\u001b[39;00m:\n\u001b[0;32m--> 112\u001b[0m     \u001b[39myield\u001b[39;00m\n\u001b[1;32m    113\u001b[0m \u001b[39mexcept\u001b[39;00m errors \u001b[39mas\u001b[39;00m e:\n",
      "File \u001b[0;32m~/anaconda3/envs/dvtry/lib/python3.10/site-packages/dvc/api/data.py:24\u001b[0m, in \u001b[0;36mget_url\u001b[0;34m(path, repo, rev, remote)\u001b[0m\n\u001b[1;32m     23\u001b[0m \u001b[39mwith\u001b[39;00m reraise(\u001b[39mFileNotFoundError\u001b[39;00m, PathMissingError(path, repo)):\n\u001b[0;32m---> 24\u001b[0m     info \u001b[39m=\u001b[39m _repo\u001b[39m.\u001b[39;49mdvcfs\u001b[39m.\u001b[39;49minfo(fs_path)\n\u001b[1;32m     26\u001b[0m dvc_info \u001b[39m=\u001b[39m info\u001b[39m.\u001b[39mget(\u001b[39m\"\u001b[39m\u001b[39mdvc_info\u001b[39m\u001b[39m\"\u001b[39m)\n",
      "File \u001b[0;32m~/anaconda3/envs/dvtry/lib/python3.10/site-packages/dvc_objects/fs/base.py:350\u001b[0m, in \u001b[0;36mFileSystem.info\u001b[0;34m(self, path)\u001b[0m\n\u001b[1;32m    349\u001b[0m \u001b[39mdef\u001b[39;00m \u001b[39minfo\u001b[39m(\u001b[39mself\u001b[39m, path: AnyFSPath) \u001b[39m-\u001b[39m\u001b[39m>\u001b[39m \u001b[39m\"\u001b[39m\u001b[39mEntry\u001b[39m\u001b[39m\"\u001b[39m:\n\u001b[0;32m--> 350\u001b[0m     \u001b[39mreturn\u001b[39;00m \u001b[39mself\u001b[39;49m\u001b[39m.\u001b[39;49mfs\u001b[39m.\u001b[39;49minfo(path)\n",
      "File \u001b[0;32m~/anaconda3/envs/dvtry/lib/python3.10/site-packages/dvc/fs/dvc.py:407\u001b[0m, in \u001b[0;36m_DvcFileSystem.info\u001b[0;34m(self, path, **kwargs)\u001b[0m\n\u001b[1;32m    406\u001b[0m \u001b[39mtry\u001b[39;00m:\n\u001b[0;32m--> 407\u001b[0m     fs_info \u001b[39m=\u001b[39m fs\u001b[39m.\u001b[39;49minfo(fs_path)\n\u001b[1;32m    408\u001b[0m     \u001b[39mif\u001b[39;00m dvcignore\u001b[39m.\u001b[39mis_ignored(\n\u001b[1;32m    409\u001b[0m         fs, fs_path, ignore_subrepos\u001b[39m=\u001b[39mignore_subrepos\n\u001b[1;32m    410\u001b[0m     ):\n",
      "File \u001b[0;32m~/anaconda3/envs/dvtry/lib/python3.10/site-packages/dvc_objects/fs/base.py:350\u001b[0m, in \u001b[0;36mFileSystem.info\u001b[0;34m(self, path)\u001b[0m\n\u001b[1;32m    349\u001b[0m \u001b[39mdef\u001b[39;00m \u001b[39minfo\u001b[39m(\u001b[39mself\u001b[39m, path: AnyFSPath) \u001b[39m-\u001b[39m\u001b[39m>\u001b[39m \u001b[39m\"\u001b[39m\u001b[39mEntry\u001b[39m\u001b[39m\"\u001b[39m:\n\u001b[0;32m--> 350\u001b[0m     \u001b[39mreturn\u001b[39;00m \u001b[39mself\u001b[39;49m\u001b[39m.\u001b[39;49mfs\u001b[39m.\u001b[39;49minfo(path)\n",
      "File \u001b[0;32m~/anaconda3/envs/dvtry/lib/python3.10/site-packages/dvc_objects/fs/local.py:50\u001b[0m, in \u001b[0;36mFsspecLocalFileSystem.info\u001b[0;34m(self, path, **kwargs)\u001b[0m\n\u001b[1;32m     49\u001b[0m \u001b[39mdef\u001b[39;00m \u001b[39minfo\u001b[39m(\u001b[39mself\u001b[39m, path, \u001b[39m*\u001b[39m\u001b[39m*\u001b[39mkwargs):\n\u001b[0;32m---> 50\u001b[0m     \u001b[39mreturn\u001b[39;00m \u001b[39mself\u001b[39;49m\u001b[39m.\u001b[39;49mfs\u001b[39m.\u001b[39;49minfo(path)\n",
      "File \u001b[0;32m~/anaconda3/envs/dvtry/lib/python3.10/site-packages/fsspec/implementations/local.py:83\u001b[0m, in \u001b[0;36mLocalFileSystem.info\u001b[0;34m(self, path, **kwargs)\u001b[0m\n\u001b[1;32m     82\u001b[0m path \u001b[39m=\u001b[39m \u001b[39mself\u001b[39m\u001b[39m.\u001b[39m_strip_protocol(path)\n\u001b[0;32m---> 83\u001b[0m out \u001b[39m=\u001b[39m os\u001b[39m.\u001b[39;49mstat(path, follow_symlinks\u001b[39m=\u001b[39;49m\u001b[39mFalse\u001b[39;49;00m)\n\u001b[1;32m     84\u001b[0m link \u001b[39m=\u001b[39m stat\u001b[39m.\u001b[39mS_ISLNK(out\u001b[39m.\u001b[39mst_mode)\n",
      "\u001b[0;31mFileNotFoundError\u001b[0m: [Errno 2] No such file or directory: '/home/jedi/Documents/Tenacademy/B5/Week3/dvcc/data/sample_submission'",
      "\nThe above exception was the direct cause of the following exception:\n",
      "\u001b[0;31mPathMissingError\u001b[0m                          Traceback (most recent call last)",
      "\u001b[1;32m/home/jedi/Documents/Tenacademy/B5/Week3/dvcc/a.ipynb Cell 3\u001b[0m in \u001b[0;36m<cell line: 1>\u001b[0;34m()\u001b[0m\n\u001b[0;32m----> <a href='vscode-notebook-cell:/home/jedi/Documents/Tenacademy/B5/Week3/dvcc/a.ipynb#ch0000003?line=0'>1</a>\u001b[0m data_url \u001b[39m=\u001b[39m dvc\u001b[39m.\u001b[39;49mapi\u001b[39m.\u001b[39;49mget_url(\n\u001b[1;32m      <a href='vscode-notebook-cell:/home/jedi/Documents/Tenacademy/B5/Week3/dvcc/a.ipynb#ch0000003?line=1'>2</a>\u001b[0m     path\u001b[39m=\u001b[39;49mpath,\n\u001b[1;32m      <a href='vscode-notebook-cell:/home/jedi/Documents/Tenacademy/B5/Week3/dvcc/a.ipynb#ch0000003?line=2'>3</a>\u001b[0m     repo\u001b[39m=\u001b[39;49mrepo,\n\u001b[1;32m      <a href='vscode-notebook-cell:/home/jedi/Documents/Tenacademy/B5/Week3/dvcc/a.ipynb#ch0000003?line=3'>4</a>\u001b[0m     \u001b[39m# rev='v5'\u001b[39;49;00m\n\u001b[1;32m      <a href='vscode-notebook-cell:/home/jedi/Documents/Tenacademy/B5/Week3/dvcc/a.ipynb#ch0000003?line=4'>5</a>\u001b[0m )\n",
      "File \u001b[0;32m~/anaconda3/envs/dvtry/lib/python3.10/site-packages/dvc/api/data.py:23\u001b[0m, in \u001b[0;36mget_url\u001b[0;34m(path, repo, rev, remote)\u001b[0m\n\u001b[1;32m     21\u001b[0m \u001b[39mwith\u001b[39;00m Repo\u001b[39m.\u001b[39mopen(repo, rev\u001b[39m=\u001b[39mrev, subrepos\u001b[39m=\u001b[39m\u001b[39mTrue\u001b[39;00m, uninitialized\u001b[39m=\u001b[39m\u001b[39mTrue\u001b[39;00m) \u001b[39mas\u001b[39;00m _repo:\n\u001b[1;32m     22\u001b[0m     fs_path \u001b[39m=\u001b[39m _repo\u001b[39m.\u001b[39mdvcfs\u001b[39m.\u001b[39mfrom_os_path(path)\n\u001b[0;32m---> 23\u001b[0m     \u001b[39mwith\u001b[39;00m reraise(\u001b[39mFileNotFoundError\u001b[39;00m, PathMissingError(path, repo)):\n\u001b[1;32m     24\u001b[0m         info \u001b[39m=\u001b[39m _repo\u001b[39m.\u001b[39mdvcfs\u001b[39m.\u001b[39minfo(fs_path)\n\u001b[1;32m     26\u001b[0m     dvc_info \u001b[39m=\u001b[39m info\u001b[39m.\u001b[39mget(\u001b[39m\"\u001b[39m\u001b[39mdvc_info\u001b[39m\u001b[39m\"\u001b[39m)\n",
      "File \u001b[0;32m~/anaconda3/envs/dvtry/lib/python3.10/contextlib.py:153\u001b[0m, in \u001b[0;36m_GeneratorContextManager.__exit__\u001b[0;34m(self, typ, value, traceback)\u001b[0m\n\u001b[1;32m    151\u001b[0m     value \u001b[39m=\u001b[39m typ()\n\u001b[1;32m    152\u001b[0m \u001b[39mtry\u001b[39;00m:\n\u001b[0;32m--> 153\u001b[0m     \u001b[39mself\u001b[39;49m\u001b[39m.\u001b[39;49mgen\u001b[39m.\u001b[39;49mthrow(typ, value, traceback)\n\u001b[1;32m    154\u001b[0m \u001b[39mexcept\u001b[39;00m \u001b[39mStopIteration\u001b[39;00m \u001b[39mas\u001b[39;00m exc:\n\u001b[1;32m    155\u001b[0m     \u001b[39m# Suppress StopIteration *unless* it's the same exception that\u001b[39;00m\n\u001b[1;32m    156\u001b[0m     \u001b[39m# was passed to throw().  This prevents a StopIteration\u001b[39;00m\n\u001b[1;32m    157\u001b[0m     \u001b[39m# raised inside the \"with\" statement from being suppressed.\u001b[39;00m\n\u001b[1;32m    158\u001b[0m     \u001b[39mreturn\u001b[39;00m exc \u001b[39mis\u001b[39;00m \u001b[39mnot\u001b[39;00m value\n",
      "File \u001b[0;32m~/anaconda3/envs/dvtry/lib/python3.10/site-packages/funcy/flow.py:116\u001b[0m, in \u001b[0;36mreraise\u001b[0;34m(errors, into)\u001b[0m\n\u001b[1;32m    114\u001b[0m \u001b[39mif\u001b[39;00m callable(into) \u001b[39mand\u001b[39;00m \u001b[39mnot\u001b[39;00m _is_exception_type(into):\n\u001b[1;32m    115\u001b[0m     into \u001b[39m=\u001b[39m into(e)\n\u001b[0;32m--> 116\u001b[0m raise_from(into, e)\n",
      "File \u001b[0;32m<string>:3\u001b[0m, in \u001b[0;36mraise_from\u001b[0;34m(value, from_value)\u001b[0m\n",
      "\u001b[0;31mPathMissingError\u001b[0m: The path 'data/sample_submission' does not exist in the target repository '/home/jedi/Documents/Tenacademy/B5/Week3/dvcc' neither as a DVC output nor as a Git-tracked file."
     ]
    }
   ],
   "source": [
    "data_url = dvc.api.get_url(\n",
    "    path=path,\n",
    "    repo=repo,\n",
    "    # rev='v5'\n",
    ")"
   ]
  }
 ],
 "metadata": {
  "kernelspec": {
   "display_name": "Python 3.10.4 ('dvtry')",
   "language": "python",
   "name": "python3"
  },
  "language_info": {
   "codemirror_mode": {
    "name": "ipython",
    "version": 3
   },
   "file_extension": ".py",
   "mimetype": "text/x-python",
   "name": "python",
   "nbconvert_exporter": "python",
   "pygments_lexer": "ipython3",
   "version": "3.10.4"
  },
  "orig_nbformat": 4,
  "vscode": {
   "interpreter": {
    "hash": "082fa0f812db4fa1596aff99de05443577d1a6416339752295b266df89ee6bc9"
   }
  }
 },
 "nbformat": 4,
 "nbformat_minor": 2
}
